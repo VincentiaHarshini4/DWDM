{
  "nbformat": 4,
  "nbformat_minor": 0,
  "metadata": {
    "colab": {
      "provenance": [],
      "authorship_tag": "ABX9TyMq68Kg3ixkQA4oI+DikbOP",
      "include_colab_link": true
    },
    "kernelspec": {
      "name": "python3",
      "display_name": "Python 3"
    },
    "language_info": {
      "name": "python"
    }
  },
  "cells": [
    {
      "cell_type": "markdown",
      "metadata": {
        "id": "view-in-github",
        "colab_type": "text"
      },
      "source": [
        "<a href=\"https://colab.research.google.com/github/VincentiaHarshini4/DWDM/blob/main/Exp1.ipynb\" target=\"_parent\"><img src=\"https://colab.research.google.com/assets/colab-badge.svg\" alt=\"Open In Colab\"/></a>"
      ]
    },
    {
      "cell_type": "code",
      "execution_count": 1,
      "metadata": {
        "id": "idzCfGPD0h6S"
      },
      "outputs": [],
      "source": [
        "from sklearn.datasets import fetch_california_housing\n",
        "import pandas as pd"
      ]
    },
    {
      "cell_type": "code",
      "source": [
        "california=fetch_california_housing()\n",
        "data=pd.DataFrame(california.data, columns=california.feature_names)\n",
        "data[\"target\"]=california.target"
      ],
      "metadata": {
        "id": "Fwl42GBw00kd"
      },
      "execution_count": 4,
      "outputs": []
    },
    {
      "cell_type": "code",
      "source": [
        "target='target'\n",
        "independent=data.columns.difference([target])"
      ],
      "metadata": {
        "id": "Itg1TU4I25aC"
      },
      "execution_count": 6,
      "outputs": []
    },
    {
      "cell_type": "code",
      "source": [
        "missing_values=data.isnull().sum()\n",
        "print(missing_values)"
      ],
      "metadata": {
        "colab": {
          "base_uri": "https://localhost:8080/"
        },
        "id": "i04YbCiV3FuM",
        "outputId": "7e9d80ec-2820-4641-83f2-3dd045fe0099"
      },
      "execution_count": 7,
      "outputs": [
        {
          "output_type": "stream",
          "name": "stdout",
          "text": [
            "MedInc        0\n",
            "HouseAge      0\n",
            "AveRooms      0\n",
            "AveBedrms     0\n",
            "Population    0\n",
            "AveOccup      0\n",
            "Latitude      0\n",
            "Longitude     0\n",
            "target        0\n",
            "dtype: int64\n"
          ]
        }
      ]
    },
    {
      "cell_type": "code",
      "source": [],
      "metadata": {
        "id": "27ZeaifQ3PD8"
      },
      "execution_count": null,
      "outputs": []
    }
  ]
}
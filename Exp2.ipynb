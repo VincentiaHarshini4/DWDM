{
  "nbformat": 4,
  "nbformat_minor": 0,
  "metadata": {
    "colab": {
      "provenance": [],
      "authorship_tag": "ABX9TyPXw3jwik/BvEreOVexQlG9",
      "include_colab_link": true
    },
    "kernelspec": {
      "name": "python3",
      "display_name": "Python 3"
    },
    "language_info": {
      "name": "python"
    }
  },
  "cells": [
    {
      "cell_type": "markdown",
      "metadata": {
        "id": "view-in-github",
        "colab_type": "text"
      },
      "source": [
        "<a href=\"https://colab.research.google.com/github/VincentiaHarshini4/DWDM/blob/main/Exp2.ipynb\" target=\"_parent\"><img src=\"https://colab.research.google.com/assets/colab-badge.svg\" alt=\"Open In Colab\"/></a>"
      ]
    },
    {
      "cell_type": "code",
      "execution_count": 2,
      "metadata": {
        "id": "NA0Jwu50eO2M"
      },
      "outputs": [],
      "source": [
        "from sklearn.datasets import load_breast_cancer\n",
        "import pandas as pd\n",
        "import numpy as np"
      ]
    },
    {
      "cell_type": "code",
      "source": [
        "cancer=load_breast_cancer()\n",
        "data=pd.DataFrame(cancer.data, columns=cancer.feature_names)\n",
        "data['target']=cancer.target"
      ],
      "metadata": {
        "id": "BkyHwlIRegh-"
      },
      "execution_count": 3,
      "outputs": []
    },
    {
      "cell_type": "code",
      "source": [
        "data['radius_category']=pd.cut(data['mean radius'], bins=[0,10,20,30,np.inf],\n",
        "                               labels=['0-10', '10-20', '20-30', '>30'])"
      ],
      "metadata": {
        "id": "qVZr0q1xevBG"
      },
      "execution_count": 9,
      "outputs": []
    },
    {
      "cell_type": "code",
      "source": [
        "from sklearn.preprocessing import StandardScaler\n",
        "scaler=StandardScaler()"
      ],
      "metadata": {
        "id": "qJ1kKD9YM5l3"
      },
      "execution_count": 13,
      "outputs": []
    },
    {
      "cell_type": "code",
      "source": [
        "independent=data.select_dtypes(include=np.number).columns"
      ],
      "metadata": {
        "id": "MPggccsROM0E"
      },
      "execution_count": 16,
      "outputs": []
    },
    {
      "cell_type": "code",
      "source": [
        "data[independent]= scaler.fit_transform(data[independent])"
      ],
      "metadata": {
        "id": "sM83MnV3fMez"
      },
      "execution_count": 17,
      "outputs": []
    },
    {
      "cell_type": "code",
      "source": [
        "from sklearn.model_selection import train_test_split\n",
        "x_train,x_test,y_train,y_test=train_test_split(data[independent], data[target], test_size=0.3, random_state=42)"
      ],
      "metadata": {
        "id": "7V6k5mcZMdS6"
      },
      "execution_count": 18,
      "outputs": []
    },
    {
      "cell_type": "code",
      "source": [
        "print(x_train.shape)\n",
        "print(y_train.shape)\n",
        "print(x_test.shape)\n",
        "print(y_test.shape)\n"
      ],
      "metadata": {
        "colab": {
          "base_uri": "https://localhost:8080/"
        },
        "id": "fSDnxwCTOz5W",
        "outputId": "a96ec72e-24c2-408f-b468-87baa47a3c21"
      },
      "execution_count": 19,
      "outputs": [
        {
          "output_type": "stream",
          "name": "stdout",
          "text": [
            "(398, 31)\n",
            "(398,)\n",
            "(171, 31)\n",
            "(171,)\n"
          ]
        }
      ]
    },
    {
      "cell_type": "code",
      "source": [],
      "metadata": {
        "id": "Woaw6O_fPr0R"
      },
      "execution_count": null,
      "outputs": []
    }
  ]
}
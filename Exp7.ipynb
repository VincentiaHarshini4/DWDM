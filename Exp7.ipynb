{
  "nbformat": 4,
  "nbformat_minor": 0,
  "metadata": {
    "colab": {
      "provenance": [],
      "authorship_tag": "ABX9TyP0owdZW/f9yKkvnhQme+gL",
      "include_colab_link": true
    },
    "kernelspec": {
      "name": "python3",
      "display_name": "Python 3"
    },
    "language_info": {
      "name": "python"
    }
  },
  "cells": [
    {
      "cell_type": "markdown",
      "metadata": {
        "id": "view-in-github",
        "colab_type": "text"
      },
      "source": [
        "<a href=\"https://colab.research.google.com/github/VincentiaHarshini4/DWDM/blob/main/Exp7.ipynb\" target=\"_parent\"><img src=\"https://colab.research.google.com/assets/colab-badge.svg\" alt=\"Open In Colab\"/></a>"
      ]
    },
    {
      "cell_type": "code",
      "execution_count": 2,
      "metadata": {
        "colab": {
          "base_uri": "https://localhost:8080/"
        },
        "id": "mrrL7sLVKTn1",
        "outputId": "2241e13c-69ee-4f6c-8a16-eda760886ccf"
      },
      "outputs": [
        {
          "output_type": "stream",
          "name": "stderr",
          "text": [
            "/usr/local/lib/python3.11/dist-packages/ipykernel/ipkernel.py:283: DeprecationWarning: `should_run_async` will not call `transform_cell` automatically in the future. Please pass the result to `transformed_cell` argument and any exception that happen during thetransform in `preprocessing_exc_tuple` in IPython 7.17 and above.\n",
            "  and should_run_async(code)\n"
          ]
        }
      ],
      "source": [
        "import pandas as pd\n",
        "from mlxtend.frequent_patterns import apriori\n",
        "from mlxtend.frequent_patterns import association_rules\n"
      ]
    },
    {
      "cell_type": "code",
      "source": [
        "data=pd.read_csv('/content/market_basket_data.csv',header=None)\n",
        "onehot_data=pd.get_dummies(data)\n",
        "frequent_itemsets=apriori(onehot_data, min_support=0.1, use_colnames=True)\n",
        "ass_rules=association_rules(frequent_itemsets, metric=\"lift\",min_threshold=1,num_itemsets=2)"
      ],
      "metadata": {
        "colab": {
          "base_uri": "https://localhost:8080/"
        },
        "id": "XLK-PpTLKkOk",
        "outputId": "06c9924b-4101-4590-883b-147b6b836a8a"
      },
      "execution_count": 13,
      "outputs": [
        {
          "output_type": "stream",
          "name": "stderr",
          "text": [
            "/usr/local/lib/python3.11/dist-packages/ipykernel/ipkernel.py:283: DeprecationWarning: `should_run_async` will not call `transform_cell` automatically in the future. Please pass the result to `transformed_cell` argument and any exception that happen during thetransform in `preprocessing_exc_tuple` in IPython 7.17 and above.\n",
            "  and should_run_async(code)\n"
          ]
        }
      ]
    },
    {
      "cell_type": "code",
      "source": [
        "print(\"Frequent Itemsets:\",frequent_itemsets)\n",
        "print(\"Association Rules:\",association_rules)"
      ],
      "metadata": {
        "colab": {
          "base_uri": "https://localhost:8080/"
        },
        "id": "g273mzTAMx-6",
        "outputId": "6dfb2ad4-aa9c-4f46-c07f-df0be7344ee1"
      },
      "execution_count": 15,
      "outputs": [
        {
          "output_type": "stream",
          "name": "stdout",
          "text": [
            "Frequent Itemsets:       support                                        itemsets\n",
            "0    0.285714                                           (0_0)\n",
            "1    0.571429                                           (0_1)\n",
            "2    0.142857                                        (0_Milk)\n",
            "3    0.285714                                           (1_0)\n",
            "4    0.571429                                           (1_1)\n",
            "..        ...                                             ...\n",
            "145  0.142857                       (2_1, 3_1, 4_0, 0_1, 1_0)\n",
            "146  0.142857                       (2_1, 3_1, 4_1, 0_1, 1_0)\n",
            "147  0.142857                       (1_1, 4_1, 3_0, 2_0, 0_1)\n",
            "148  0.142857                       (2_1, 1_1, 4_1, 3_0, 0_1)\n",
            "149  0.142857  (1_Bread, 0_Milk, 4_Butter, 3_Cheese, 2_Apple)\n",
            "\n",
            "[150 rows x 2 columns]\n",
            "Association Rules: <function association_rules at 0x7e1e8c5dc9a0>\n"
          ]
        },
        {
          "output_type": "stream",
          "name": "stderr",
          "text": [
            "/usr/local/lib/python3.11/dist-packages/ipykernel/ipkernel.py:283: DeprecationWarning: `should_run_async` will not call `transform_cell` automatically in the future. Please pass the result to `transformed_cell` argument and any exception that happen during thetransform in `preprocessing_exc_tuple` in IPython 7.17 and above.\n",
            "  and should_run_async(code)\n"
          ]
        }
      ]
    },
    {
      "cell_type": "code",
      "source": [],
      "metadata": {
        "id": "f-Y7JpxlN233"
      },
      "execution_count": null,
      "outputs": []
    }
  ]
}